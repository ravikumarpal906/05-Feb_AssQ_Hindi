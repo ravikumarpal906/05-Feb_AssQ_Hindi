{
 "cells": [
  {
   "cell_type": "markdown",
   "id": "f810fbc1-7410-4e0d-8c40-344a6cdd851a",
   "metadata": {},
   "source": [
    "Q1. Explain Class and Object with respect to Object-Oriented Programming. Give a suitable example."
   ]
  },
  {
   "cell_type": "raw",
   "id": "37dc4a71-55e5-4f77-9993-1c5d3f3e0295",
   "metadata": {},
   "source": [
    "Class:\n",
    "\n",
    "A class is a blueprint or a template for creating objects. It defines a set of attributes (data members) and methods (functions) that the objects created from the class will have.\n",
    "It acts as a blueprint because it specifies how objects of that class should behave and what data they should store.\n",
    "Classes allow you to create user-defined data types with their own attributes and behaviors."
   ]
  },
  {
   "cell_type": "raw",
   "id": "98652aa7-d605-4fe9-9bf8-10c6b19c4370",
   "metadata": {},
   "source": [
    "Object:\n",
    "\n",
    "An object is an instance of a class. It's a concrete realization of the blueprint defined by the class.\n",
    "Objects are created from classes, and they can store specific data and perform specific actions as defined by the class.\n",
    "Each object created from a class can have its unique data values, even though they share the same structure (attributes and methods) defined by the class."
   ]
  },
  {
   "cell_type": "code",
   "execution_count": 2,
   "id": "cddaf1cb-243a-4bfe-a91b-759d2d80e60c",
   "metadata": {},
   "outputs": [
    {
     "name": "stdout",
     "output_type": "stream",
     "text": [
      "My dog's name is Buddy\n",
      "My dog's breed is Golden Retriever\n",
      "Buddy is barking\n"
     ]
    }
   ],
   "source": [
    "class Dog:\n",
    "    # Constructor method to initialize attributes\n",
    "    def __init__(self,name,breed):\n",
    "        self.name=name\n",
    "        self.breed=breed\n",
    "        \n",
    "    # Method to make the dog bark\n",
    "    def bark(self):\n",
    "        print(f\"{self.name} is barking\")\n",
    "        \n",
    "# Create an instance (object) of the Dog class\n",
    "my_dog=Dog(\"Buddy\", \"Golden Retriever\")\n",
    "\n",
    "# Accessing attributes and calling methods\n",
    "print(f\"My dog's name is {my_dog.name}\")\n",
    "print(f\"My dog's breed is {my_dog.breed}\")\n",
    "my_dog.bark()"
   ]
  },
  {
   "cell_type": "raw",
   "id": "3a02935d-6a55-418f-8b6e-46d3aeb8a4ec",
   "metadata": {},
   "source": []
  },
  {
   "cell_type": "markdown",
   "id": "c7de100f-cbe7-42d7-a8d7-93104ab83514",
   "metadata": {},
   "source": [
    "Q2. Name the four pillars of OOPs."
   ]
  },
  {
   "cell_type": "raw",
   "id": "c6915206-73b7-498c-a1d3-a3ec15a2bcc4",
   "metadata": {},
   "source": [
    "1. Encapsulation\n",
    "2. Inheritance\n",
    "3. Polymorphism\n",
    "4. Abstraction"
   ]
  },
  {
   "cell_type": "raw",
   "id": "a613c2df-3153-45d5-821a-16ac423926e1",
   "metadata": {},
   "source": []
  },
  {
   "cell_type": "markdown",
   "id": "4e96e145-758e-4415-bacf-4b0bf4a01faa",
   "metadata": {},
   "source": [
    "Q3. Explain why the __init__() function is used. Give a suitable example."
   ]
  },
  {
   "cell_type": "raw",
   "id": "c2a967c3-da2b-42f5-a73c-d3c754202054",
   "metadata": {},
   "source": [
    "The __init__() function in Python is used as a constructor method for initializing the attributes (data members) of an object when an instance of a class is created. \n",
    "\n",
    "The __init__() method can accept parameters, making it possible to customize the initial state of each object created from the class. This allows you to create objects with different initial attribute values."
   ]
  },
  {
   "cell_type": "raw",
   "id": "6ad8828f-5fab-4cbb-9a6d-381aaac97c23",
   "metadata": {},
   "source": [
    "class Person:\n",
    "    def __init__(self,name,age):\n",
    "        self.name=name\n",
    "        self.age=age\n",
    "        \n",
    "    def Introduction(self):\n",
    "        print(f\"Hello, My name is {self.name} and i am {self.age} year old\")\n",
    "\n",
    "# Creating instances (objects) of the Person class\n",
    "Person1=Person(\"Ravi\",23)\n",
    "Person2=Person(\"Rohan\",21)\n",
    "\n",
    "# Accessing attributes and calling methods\n",
    "Person1.Introduction()\n",
    "Person2.Introduction()"
   ]
  },
  {
   "cell_type": "raw",
   "id": "1abdacf8-f5b5-4a89-9804-68621b23d528",
   "metadata": {},
   "source": []
  },
  {
   "cell_type": "markdown",
   "id": "e024a6fe-1316-4f37-9b4e-3cf9295f7bf1",
   "metadata": {},
   "source": [
    "Q4. Why self is used in OOPs?"
   ]
  },
  {
   "cell_type": "raw",
   "id": "c5018e53-1cb1-4b92-bbbc-1ad991082aa6",
   "metadata": {},
   "source": [
    "self is a conventionally used parameter name that refers to the current instance of a class. It is used to access and manipulate the attributes and methods of an object within the class. "
   ]
  },
  {
   "cell_type": "code",
   "execution_count": null,
   "id": "29cf7931-cfbf-4ea9-8d5a-c752b00a00a1",
   "metadata": {},
   "outputs": [],
   "source": []
  },
  {
   "cell_type": "markdown",
   "id": "cb77d850-b362-4235-b556-4e4e8f0ba99e",
   "metadata": {},
   "source": [
    "Q5. What is inheritance? Give an example for each type of inheritance."
   ]
  },
  {
   "cell_type": "raw",
   "id": "e8c2aa1f-ade2-4c3e-ab93-04ca692f6acd",
   "metadata": {},
   "source": [
    "It allows you to create a new class (derived or subclass) based on an existing class (base or superclass). Inheritance is a mechanism that enables code reuse and establishes a hierarchical relationship between classes. The derived class inherits the attributes and methods of the base class, promoting code reuse and allowing you to extend or modify the behavior of the base class as needed."
   ]
  },
  {
   "cell_type": "code",
   "execution_count": 5,
   "id": "3b4db4be-ddab-4572-b9fd-ed172af8dd31",
   "metadata": {},
   "outputs": [
    {
     "name": "stdout",
     "output_type": "stream",
     "text": [
      "Woof!\n"
     ]
    }
   ],
   "source": [
    "# 1. Single Inheritance: In single inheritance, a class inherits from only one base class. This is the simplest form of inheritance.\n",
    "class Animal:\n",
    "    def speak(self):\n",
    "        pass\n",
    "\n",
    "class Dog(Animal):\n",
    "    def speak(self):\n",
    "        return \"Woof!\"\n",
    "\n",
    "my_dog = Dog()\n",
    "print(my_dog.speak())"
   ]
  },
  {
   "cell_type": "code",
   "execution_count": 6,
   "id": "fe3d97f7-4565-46cd-ba05-13bf70d7b965",
   "metadata": {},
   "outputs": [
    {
     "name": "stdout",
     "output_type": "stream",
     "text": [
      "Method A\n",
      "Method B\n"
     ]
    }
   ],
   "source": [
    "# 2. Multiple Inheritance: In multiple inheritance, a class can inherit from more than one base class. This allows the derived class to inherit attributes and methods from multiple sources.\n",
    "class A:\n",
    "    def method_a(self):\n",
    "        return \"Method A\"\n",
    "\n",
    "class B:\n",
    "    def method_b(self):\n",
    "        return \"Method B\"\n",
    "\n",
    "class C(A, B):\n",
    "    pass\n",
    "\n",
    "obj_c = C()\n",
    "print(obj_c.method_a())\n",
    "print(obj_c.method_b())"
   ]
  },
  {
   "cell_type": "code",
   "execution_count": 7,
   "id": "74d20bd0-ad81-48ca-b7ec-7968e33e5232",
   "metadata": {},
   "outputs": [
    {
     "name": "stdout",
     "output_type": "stream",
     "text": [
      "Hello from Parent\n"
     ]
    }
   ],
   "source": [
    "# 3. Multilevel Inheritance: In multilevel inheritance, a derived class is used as a base class for another class, creating a chain or hierarchy of classes.\n",
    "class Grandparent:\n",
    "    def say_hello(self):\n",
    "        return \"Hello from Grandparent\"\n",
    "\n",
    "class Parent(Grandparent):\n",
    "    def say_hello(self):\n",
    "        return \"Hello from Parent\"\n",
    "\n",
    "class Child(Parent):\n",
    "    pass\n",
    "\n",
    "child = Child()\n",
    "print(child.say_hello()) "
   ]
  },
  {
   "cell_type": "code",
   "execution_count": 8,
   "id": "906fb0a4-4ae2-4cbc-8fb7-4cab41589145",
   "metadata": {},
   "outputs": [
    {
     "name": "stdout",
     "output_type": "stream",
     "text": [
      "3.14\n",
      "4.0\n"
     ]
    }
   ],
   "source": [
    "# 4. Hierarchical Inheritance: In hierarchical inheritance, multiple classes inherit from a single base class, forming a branching structure.\n",
    "class Shape:\n",
    "    def area(self):\n",
    "        pass\n",
    "\n",
    "class Circle(Shape):\n",
    "    def area(self):\n",
    "        return 3.14\n",
    "\n",
    "class Square(Shape):\n",
    "    def area(self):\n",
    "        return 4.0\n",
    "\n",
    "circle = Circle()\n",
    "square = Square()\n",
    "print(circle.area())\n",
    "print(square.area())"
   ]
  },
  {
   "cell_type": "code",
   "execution_count": 11,
   "id": "9afa1f12-43ea-4f7d-accf-210e2c7ce90c",
   "metadata": {},
   "outputs": [
    {
     "name": "stdout",
     "output_type": "stream",
     "text": [
      "Method A\n",
      "Method B\n",
      "Method B\n"
     ]
    }
   ],
   "source": [
    "# 5. Hybrid Inheritance: Hybrid inheritance is a combination of any of the above types of inheritance. It allows you to create complex inheritance structures involving multiple base classes.\n",
    "# here we combine Single and Multiple Inheritance\n",
    "class A:\n",
    "    def method_a(self):\n",
    "        return \"Method A\"\n",
    "\n",
    "class B:\n",
    "    def method_b(self):\n",
    "        return \"Method B\"\n",
    "\n",
    "class C(A, B):\n",
    "    pass\n",
    "class D(B):\n",
    "    pass\n",
    "\n",
    "obj_c = C()\n",
    "obj_d = D()\n",
    "print(obj_c.method_a())\n",
    "print(obj_c.method_b())\n",
    "print(obj_d.method_b())"
   ]
  },
  {
   "cell_type": "code",
   "execution_count": null,
   "id": "b83862a2-b399-4812-9510-7ceefe230216",
   "metadata": {},
   "outputs": [],
   "source": []
  }
 ],
 "metadata": {
  "kernelspec": {
   "display_name": "Python 3 (ipykernel)",
   "language": "python",
   "name": "python3"
  },
  "language_info": {
   "codemirror_mode": {
    "name": "ipython",
    "version": 3
   },
   "file_extension": ".py",
   "mimetype": "text/x-python",
   "name": "python",
   "nbconvert_exporter": "python",
   "pygments_lexer": "ipython3",
   "version": "3.10.8"
  }
 },
 "nbformat": 4,
 "nbformat_minor": 5
}
